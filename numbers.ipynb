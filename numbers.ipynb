{
  "nbformat": 4,
  "nbformat_minor": 0,
  "metadata": {
    "colab": {
      "provenance": [],
      "authorship_tag": "ABX9TyMvibIy6jr2qOSvnT1y22qL",
      "include_colab_link": true
    },
    "kernelspec": {
      "name": "python3",
      "display_name": "Python 3"
    },
    "language_info": {
      "name": "python"
    }
  },
  "cells": [
    {
      "cell_type": "markdown",
      "metadata": {
        "id": "view-in-github",
        "colab_type": "text"
      },
      "source": [
        "<a href=\"https://colab.research.google.com/github/sabikunnahar16/PythonProjectLab/blob/main/numbers.ipynb\" target=\"_parent\"><img src=\"https://colab.research.google.com/assets/colab-badge.svg\" alt=\"Open In Colab\"/></a>"
      ]
    },
    {
      "cell_type": "markdown",
      "source": [],
      "metadata": {
        "id": "qLrtq_fDWamU"
      }
    },
    {
      "cell_type": "markdown",
      "source": [
        " You bought 9 packets of potato chips from a store. Each packet costs 1.49 dollar\n",
        "#    and you gave shopkeeper 20 dollar.\n",
        "#    Find out using python, how many dollars is the shopkeeper going to give you back?"
      ],
      "metadata": {
        "id": "3DYzAijXWdWX"
      }
    },
    {
      "cell_type": "code",
      "execution_count": 3,
      "metadata": {
        "colab": {
          "base_uri": "https://localhost:8080/"
        },
        "id": "jngn9tYRVQyM",
        "outputId": "04705836-6f73-4f5e-9609-3430b79235f4"
      },
      "outputs": [
        {
          "output_type": "stream",
          "name": "stdout",
          "text": [
            "Cash_back is: 6.59\n"
          ]
        }
      ],
      "source": [
        "packets=9\n",
        "cost=1.49\n",
        "total_cost=packets*cost\n",
        "payment=20\n",
        "cash_back=payment-total_cost\n",
        "print( \"Cash_back is:\",cash_back)"
      ]
    },
    {
      "cell_type": "code",
      "source": [],
      "metadata": {
        "id": "L_gjPWjUXjWp"
      },
      "execution_count": null,
      "outputs": []
    },
    {
      "cell_type": "markdown",
      "source": [
        "3. You want to replace tiles in your bathroom which is exactly square and 5.5 feet\n",
        "#    is its length. If tiles cost 500 rs per square feet, how much will be the total\n",
        "#    cost to replace all tiles. Calculate and print the cost using python\n",
        "#    Hint: Use power operator (**) to find area of a square\n"
      ],
      "metadata": {
        "id": "IDvioSsMXoMq"
      }
    },
    {
      "cell_type": "code",
      "source": [
        "length=5.5\n",
        "area=length**2 # area of square is length power 2\n",
        "cost=area*500\n",
        "print(\"total cost:\",cost)"
      ],
      "metadata": {
        "colab": {
          "base_uri": "https://localhost:8080/"
        },
        "id": "LjbnHaa3Xsfy",
        "outputId": "177fff33-132b-408a-c6bf-d887c6a8ed75"
      },
      "execution_count": 5,
      "outputs": [
        {
          "output_type": "stream",
          "name": "stdout",
          "text": [
            "total cost: 15125.0\n"
          ]
        }
      ]
    },
    {
      "cell_type": "code",
      "source": [
        "# 4. Print binary representation of number 17\n",
        "num=17\n",
        "print('Binary of number 17 is:',format(num,'b')) # Ans: 10001\n",
        "print('Binary of number 17 is:',format(num,'h'))"
      ],
      "metadata": {
        "colab": {
          "base_uri": "https://localhost:8080/",
          "height": 200
        },
        "id": "UYUJI2LJZicy",
        "outputId": "86d23a07-4118-416e-b120-8cd53d1587eb"
      },
      "execution_count": 7,
      "outputs": [
        {
          "output_type": "stream",
          "name": "stdout",
          "text": [
            "Binary of number 17 is: 10001\n"
          ]
        },
        {
          "output_type": "error",
          "ename": "ValueError",
          "evalue": "Unknown format code 'h' for object of type 'int'",
          "traceback": [
            "\u001b[0;31m---------------------------------------------------------------------------\u001b[0m",
            "\u001b[0;31mValueError\u001b[0m                                Traceback (most recent call last)",
            "\u001b[0;32m<ipython-input-7-ed26861b4c2e>\u001b[0m in \u001b[0;36m<cell line: 0>\u001b[0;34m()\u001b[0m\n\u001b[1;32m      2\u001b[0m \u001b[0mnum\u001b[0m\u001b[0;34m=\u001b[0m\u001b[0;36m17\u001b[0m\u001b[0;34m\u001b[0m\u001b[0;34m\u001b[0m\u001b[0m\n\u001b[1;32m      3\u001b[0m \u001b[0mprint\u001b[0m\u001b[0;34m(\u001b[0m\u001b[0;34m'Binary of number 17 is:'\u001b[0m\u001b[0;34m,\u001b[0m\u001b[0mformat\u001b[0m\u001b[0;34m(\u001b[0m\u001b[0mnum\u001b[0m\u001b[0;34m,\u001b[0m\u001b[0;34m'b'\u001b[0m\u001b[0;34m)\u001b[0m\u001b[0;34m)\u001b[0m \u001b[0;31m# Ans: 10001\u001b[0m\u001b[0;34m\u001b[0m\u001b[0;34m\u001b[0m\u001b[0m\n\u001b[0;32m----> 4\u001b[0;31m \u001b[0mprint\u001b[0m\u001b[0;34m(\u001b[0m\u001b[0;34m'Binary of number 17 is:'\u001b[0m\u001b[0;34m,\u001b[0m\u001b[0mformat\u001b[0m\u001b[0;34m(\u001b[0m\u001b[0mnum\u001b[0m\u001b[0;34m,\u001b[0m\u001b[0;34m'h'\u001b[0m\u001b[0;34m)\u001b[0m\u001b[0;34m)\u001b[0m\u001b[0;34m\u001b[0m\u001b[0;34m\u001b[0m\u001b[0m\n\u001b[0m",
            "\u001b[0;31mValueError\u001b[0m: Unknown format code 'h' for object of type 'int'"
          ]
        }
      ]
    }
  ]
}