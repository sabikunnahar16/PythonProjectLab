{
  "nbformat": 4,
  "nbformat_minor": 0,
  "metadata": {
    "colab": {
      "provenance": [],
      "toc_visible": true,
      "authorship_tag": "ABX9TyNbUqmyRwQEXbL8h75zyWH0",
      "include_colab_link": true
    },
    "kernelspec": {
      "name": "python3",
      "display_name": "Python 3"
    },
    "language_info": {
      "name": "python"
    }
  },
  "cells": [
    {
      "cell_type": "markdown",
      "metadata": {
        "id": "view-in-github",
        "colab_type": "text"
      },
      "source": [
        "<a href=\"https://colab.research.google.com/github/sabikunnahar16/PythonProjectLab/blob/main/Dictionary.ipynb\" target=\"_parent\"><img src=\"https://colab.research.google.com/assets/colab-badge.svg\" alt=\"Open In Colab\"/></a>"
      ]
    },
    {
      "cell_type": "code",
      "execution_count": 1,
      "metadata": {
        "colab": {
          "base_uri": "https://localhost:8080/"
        },
        "id": "8pk8LlDHcnUe",
        "outputId": "9850e7b5-a0dd-485d-bb50-652c19cd777c"
      },
      "outputs": [
        {
          "name": "stdout",
          "output_type": "stream",
          "text": [
            "Enter operation (add, remove, query, print, or exit):add\n",
            "Enter country name:india\n",
            "Country already exists.\n",
            "Enter operation (add, remove, query, print, or exit):remove\n",
            "Enter country name:india\n",
            "china==>143\n",
            "usa==>32\n",
            "pakistan==>21\n",
            "Enter operation (add, remove, query, print, or exit):exit\n"
          ]
        }
      ],
      "source": [
        "population = {\n",
        "    'china': 143,\n",
        "    'india': 136,\n",
        "    'usa': 32,\n",
        "    'pakistan': 21\n",
        "}\n",
        "\n",
        "def print_all():\n",
        "    for country, p in population.items():\n",
        "        print(f\"{country}==>{p}\")\n",
        "\n",
        "def main():\n",
        "    while True:\n",
        "        op = input(\"Enter operation (add, remove, query, print, or exit):\").lower()\n",
        "        if op == 'exit':\n",
        "            break\n",
        "\n",
        "        country = input(\"Enter country name:\").lower()\n",
        "\n",
        "        if op == 'add':\n",
        "            if country in population:\n",
        "                print(\"Country already exists.\")\n",
        "            else:\n",
        "                p = float(input(f\"Enter population for {country}:\"))\n",
        "                population[country] = p\n",
        "                print_all()\n",
        "        elif op == 'remove':\n",
        "            if country in population:\n",
        "                del population[country]\n",
        "                print_all()\n",
        "            else:\n",
        "                print(\"Country doesn't exist.\")\n",
        "        elif op == 'query':\n",
        "            if country in population:\n",
        "                print(f\"Population of {country} is: {population[country]} crore\")\n",
        "            else:\n",
        "                print(\"Country doesn't exist.\")\n",
        "        elif op == 'print':\n",
        "            print_all()\n",
        "        else:\n",
        "            print(\"Invalid operation.\")\n",
        "\n",
        "if __name__ == '__main__':\\\n",
        "    main()"
      ]
    },
    {
      "cell_type": "markdown",
      "source": [
        "# New Section"
      ],
      "metadata": {
        "id": "tHSLo8Z9eLH0"
      }
    },
    {
      "cell_type": "markdown",
      "source": [
        "example1:Using above create a dictionary of countries and its population\n",
        "Write a program that asks user for three type of inputs,\n",
        "\n",
        "    print: if user enter print then it should print all countries with their population in this format,\n",
        "\n",
        "    china==>143\n",
        "    india==>136\n",
        "    usa==>32\n",
        "    pakistan==>21\n",
        "\n",
        "add: if user input add then it should further ask for a country name to add. If country already exist in our dataset then it should print that it exist and do nothing. If it doesn't then it asks for population and add that new country/population in our dictionary and print it\n",
        "remove: when user inputs remove it should ask for a country to remove. If country exist in our dictionary then remove it and print new dictionary using format shown above in (a). Else print that country doesn't exist!\n",
        "query: on this again ask user for which country he or she wants to query. When user inputs that country it will print population of that country."
      ],
      "metadata": {
        "id": "Yu9REATFeMSS"
      }
    },
    {
      "cell_type": "markdown",
      "source": [
        "Example 1 :Write circle_calc() function that takes radius of a circle as an input from user and then it calculates and returns area, circumference and diameter. You should get these values in your main program by calling circle_calc function and then print them# New Section"
      ],
      "metadata": {
        "id": "vc2oG36qeamU"
      }
    },
    {
      "cell_type": "code",
      "source": [
        "import math\n",
        "\n",
        "def circle_calc(radius):\n",
        "\n",
        "  area = math.pi * radius**2\n",
        "  circumference = 2 * math.pi * radius\n",
        "  diameter = 2 * radius\n",
        "  return area, circumference, diameter\n",
        "\n",
        "radius = float(input(\"Enter the radius of the circle: \"))\n",
        "\n",
        "\n",
        "area, circumference, diameter = circle_calc(radius)\n",
        "\n",
        "print(\"Area:\", area)\n",
        "print(\"Circumference:\", circumference)\n",
        "print(\"Diameter:\", diameter)"
      ],
      "metadata": {
        "colab": {
          "base_uri": "https://localhost:8080/"
        },
        "id": "bhLENKlif_Gf",
        "outputId": "9d605c3c-3c07-4ff2-955c-0b2e84dc7e04"
      },
      "execution_count": 2,
      "outputs": [
        {
          "output_type": "stream",
          "name": "stdout",
          "text": [
            "Enter the radius of the circle: 3\n",
            "Area: 28.274333882308138\n",
            "Circumference: 18.84955592153876\n",
            "Diameter: 6.0\n"
          ]
        }
      ]
    },
    {
      "cell_type": "markdown",
      "source": [
        "(Example 3)you are given following list of stocks and their prices in last 3 days,\n",
        "Stock \tPrices\n",
        "info \t[600,630,620]\n",
        "ril \t[1430,1490,1567]\n",
        "mtl \t[234,180,160]\n",
        "\n",
        "    Write a program that asks user for operation. Value of operations could be,\n",
        "        print: When user enters print it should print following,\n",
        "\n",
        "        info ==> [600, 630, 620] ==> avg:  616.67\n",
        "        ril ==> [1430, 1490, 1567] ==> avg:  1495.67\n",
        "        mtl ==> [234, 180, 160] ==> avg:  191.33\n",
        "\n",
        "add: When user enters 'add', it asks for stock ticker and price. If stock already exist in your list (like info, ril etc) then it will append the price to the list. Otherwise it will create new entry in your dictionary. For example entering 'tata' and 560 will add tata ==> [560] to the dictionary of stocks.# New Section"
      ],
      "metadata": {
        "id": "9ciW7H8jhSE8"
      }
    },
    {
      "cell_type": "code",
      "source": [
        "def stock_operations():\n",
        "    stocks = {\n",
        "        'info': [600, 630, 620],\n",
        "        'rili': [1430, 1490, 1567],\n",
        "        'mtl': [234, 180, 160]\n",
        "    }\n",
        "\n",
        "    while True:\n",
        "        op = input(\"Enter operation (print, add, or exit): \").lower()\n",
        "\n",
        "        if op == 'exit':\n",
        "            break\n",
        "\n",
        "        if op == 'print':\n",
        "            for stock, prices in stocks.items():\n",
        "                avg_price = sum(prices) / len(prices)\n",
        "                print(f\"{stock} ==> {prices} ==> avg: {avg_price:.2f}\")\n",
        "\n",
        "        elif op == 'add':\n",
        "            stock_ticker = input(\"Enter stock ticker: \").lower()\n",
        "            price = int(input(\"Enter price: \"))\n",
        "\n",
        "            if stock_ticker in stocks:\n",
        "                stocks[stock_ticker].append(price)\n",
        "            else:\n",
        "                stocks[stock_ticker] = [price]\n",
        "\n",
        "        else:\n",
        "            print(\"Invalid operation.  enter 'print', 'add', or 'exit'.\")\n",
        "\n",
        "if __name__ == \"__main__\":\n",
        "    stock_operations()"
      ],
      "metadata": {
        "colab": {
          "base_uri": "https://localhost:8080/"
        },
        "id": "im5hFcD8hxT_",
        "outputId": "6f80bdcf-8ef8-4fc5-d6e5-f334a443008f"
      },
      "execution_count": null,
      "outputs": [
        {
          "output_type": "stream",
          "name": "stdout",
          "text": [
            "Enter operation (print, add, or exit): add\n",
            "Enter stock ticker: rili\n",
            "Enter price: 2345\n",
            "Enter operation (print, add, or exit): print\n",
            "info ==> [600, 630, 620] ==> avg: 616.67\n",
            "rili ==> [1430, 1490, 1567, 2345] ==> avg: 1708.00\n",
            "mtl ==> [234, 180, 160] ==> avg: 191.33\n",
            "Enter operation (print, add, or exit): print\n",
            "info ==> [600, 630, 620] ==> avg: 616.67\n",
            "rili ==> [1430, 1490, 1567, 2345] ==> avg: 1708.00\n",
            "mtl ==> [234, 180, 160] ==> avg: 191.33\n"
          ]
        }
      ]
    }
  ]
}