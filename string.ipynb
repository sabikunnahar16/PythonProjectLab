{
  "nbformat": 4,
  "nbformat_minor": 0,
  "metadata": {
    "colab": {
      "provenance": [],
      "authorship_tag": "ABX9TyPX32876p7OPXcy8rKeOS/V",
      "include_colab_link": true
    },
    "kernelspec": {
      "name": "python3",
      "display_name": "Python 3"
    },
    "language_info": {
      "name": "python"
    }
  },
  "cells": [
    {
      "cell_type": "markdown",
      "metadata": {
        "id": "view-in-github",
        "colab_type": "text"
      },
      "source": [
        "<a href=\"https://colab.research.google.com/github/sabikunnahar16/PythonProjectLab/blob/main/string.ipynb\" target=\"_parent\"><img src=\"https://colab.research.google.com/assets/colab-badge.svg\" alt=\"Open In Colab\"/></a>"
      ]
    },
    {
      "cell_type": "markdown",
      "source": [
        " Create 3 variables to store street, city and country, now create address variable to"
      ],
      "metadata": {
        "id": "w6xFzZFV1mvX"
      }
    },
    {
      "cell_type": "code",
      "execution_count": null,
      "metadata": {
        "colab": {
          "base_uri": "https://localhost:8080/"
        },
        "id": "GKQPm5Q71g_1",
        "outputId": "2c1c78a1-3100-490d-ee1a-dce2a99c11c8"
      },
      "outputs": [
        {
          "output_type": "stream",
          "name": "stdout",
          "text": [
            "Address using + operator: wari 12\n",
            "dhaka\n",
            "Bangladesh\n",
            "Address using f-string: wari 12 \n",
            " dhaka \n",
            " Bangladesh \n"
          ]
        }
      ],
      "source": [
        "\n",
        "# store entire address. Use two ways of creating this variable, one using + operator and the other using f-string.\n",
        "# Now Print the address in such a way that the street, city and country prints in a separate line\n",
        "street = \"wari 12\"\n",
        "city = \"dhaka\"\n",
        "country=\"Bangladesh\"\n",
        "address = street+\"\\n\"+city+\"\\n\"+country\n",
        "print(\"Address using + operator:\",address)\n",
        "address=f\"{street} \\n {city} \\n {country} \"\n",
        "print(\"Address using f-string:\",address)"
      ]
    },
    {
      "cell_type": "markdown",
      "source": [
        "2. Create a variable to store the string \"Earth revolves around the sun\""
      ],
      "metadata": {
        "id": "7KF1zWh25CRZ"
      }
    },
    {
      "cell_type": "code",
      "source": [
        "\n",
        "#     1. Print \"revolves\" using slice operator\n",
        "#     2. Print \"sun\" using negative index\n",
        "s='Earth revolves around the sun'\n",
        "#here space also counts and last spce also counts\n",
        "print(s[6:14])\n",
        "print(s[-3:])"
      ],
      "metadata": {
        "colab": {
          "base_uri": "https://localhost:8080/"
        },
        "id": "qPMqtSQW48vG",
        "outputId": "fe5d0012-70ea-4696-cacb-2c4ace897585"
      },
      "execution_count": null,
      "outputs": [
        {
          "output_type": "stream",
          "name": "stdout",
          "text": [
            "revolve\n",
            "sun\n"
          ]
        }
      ]
    },
    {
      "cell_type": "markdown",
      "source": [
        " Create two variables to store how many fruits and vegetables you eat in a day.\n",
        "# Now Print \"I eat x veggies and y fruits daily\" where x and y presents vegetables and fruits that you eat everyday.\n",
        "# Use python f string for this."
      ],
      "metadata": {
        "id": "zguDvhVv4pVD"
      }
    },
    {
      "cell_type": "code",
      "source": [],
      "metadata": {
        "id": "v64pJOWa7ZYt"
      },
      "execution_count": null,
      "outputs": []
    },
    {
      "cell_type": "code",
      "source": [
        "x=10\n",
        "y=21\n",
        "print(f\"i eat {x} Fruits and {y} vegetables\")"
      ],
      "metadata": {
        "colab": {
          "base_uri": "https://localhost:8080/"
        },
        "id": "1byPzvR_4rcY",
        "outputId": "b9375ddb-ed27-4b6e-db0d-3fd858adf9d6"
      },
      "execution_count": 1,
      "outputs": [
        {
          "output_type": "stream",
          "name": "stdout",
          "text": [
            "i eat 10 Fruits and 21\n"
          ]
        }
      ]
    },
    {
      "cell_type": "markdown",
      "source": [],
      "metadata": {
        "id": "sCoObNfl1h-w"
      }
    },
    {
      "cell_type": "code",
      "source": [
        "#/wrong statement, the correct statement is 'maine 200 banana khaye'.\n",
        "\n",
        "#Replace incorrect words in original string with new ones and print the new string.\n",
        "#Also try to do this in one line.\n",
        "#wrong statement, the correct statement is 'maine 10 samosa khaye'\n",
        "str=\"maine 200 banana khaye\"\n",
        "str=str.replace(\"banana\",\"samosa\")\n",
        "str=str.replace(\"200\",\"10\")\n",
        "print(str)\n",
        "# alternative\n",
        "str=\"maine 200 banana khaye\"\n",
        "print(str.replace(\"banana\",'samosa').replace(\"200\",\"10\"))\n",
        "print(\"this sentence is one line printing:\",str)\n",
        "\n"
      ],
      "metadata": {
        "colab": {
          "base_uri": "https://localhost:8080/"
        },
        "id": "ARhPI7FY7oPY",
        "outputId": "1b6f0db1-ffb8-47da-d13e-8e063b319219"
      },
      "execution_count": 7,
      "outputs": [
        {
          "output_type": "stream",
          "name": "stdout",
          "text": [
            "maine 10 samosa khaye\n",
            "maine 10 samosa khaye\n",
            "thissentence is oneline printing: maine 200 banana khaye\n"
          ]
        }
      ]
    }
  ]
}