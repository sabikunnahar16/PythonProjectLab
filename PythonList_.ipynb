{
  "nbformat": 4,
  "nbformat_minor": 0,
  "metadata": {
    "colab": {
      "provenance": [],
      "authorship_tag": "ABX9TyOa2oXZLLHKhxo7d88olt6N",
      "include_colab_link": true
    },
    "kernelspec": {
      "name": "python3",
      "display_name": "Python 3"
    },
    "language_info": {
      "name": "python"
    }
  },
  "cells": [
    {
      "cell_type": "markdown",
      "metadata": {
        "id": "view-in-github",
        "colab_type": "text"
      },
      "source": [
        "<a href=\"https://colab.research.google.com/github/sabikunnahar16/PythonProjectLab/blob/main/PythonList_.ipynb\" target=\"_parent\"><img src=\"https://colab.research.google.com/assets/colab-badge.svg\" alt=\"Open In Colab\"/></a>"
      ]
    },
    {
      "cell_type": "code",
      "execution_count": null,
      "metadata": {
        "id": "9IegC3GXAu_a"
      },
      "outputs": [],
      "source": []
    },
    {
      "cell_type": "markdown",
      "source": [
        "Adding element into listing *Funtion*"
      ],
      "metadata": {
        "id": "cr0zCHt8A7nq"
      }
    },
    {
      "cell_type": "code",
      "source": [
        "city=[\"Dhaka\"]\n",
        "\n",
        "city.append(\"Barishal\")\n",
        "city.extend(['Khulna',\"Rajshahi\"])\n",
        "city.insert(1,\"bluebery\")\n",
        "print(city)\n",
        "city.remove(\"Rajshahi\")\n",
        "print (city)\n",
        "\n"
      ],
      "metadata": {
        "colab": {
          "base_uri": "https://localhost:8080/"
        },
        "id": "IWCkJIcjA_Fb",
        "outputId": "953105b2-2771-49e6-ee68-523703425255"
      },
      "execution_count": 24,
      "outputs": [
        {
          "output_type": "stream",
          "name": "stdout",
          "text": [
            "['Dhaka', 'bluebery', 'Barishal', 'Khulna', 'Rajshahi']\n",
            "['Dhaka', 'bluebery', 'Barishal', 'Khulna']\n"
          ]
        }
      ]
    },
    {
      "cell_type": "code",
      "source": [
        "numbers=[12,90,767,789,543,45]\n",
        "print(numbers)\n",
        "numbers.sort()\n",
        "print(numbers)\n",
        "numbers.reverse()\n",
        "print(numbers)\n",
        "print(min(numbers))\n",
        "print(max(numbers))\n",
        "numbers.pop()\n",
        "print(numbers)\n",
        "numbers.clear()\n",
        "print(numbers)\n"
      ],
      "metadata": {
        "colab": {
          "base_uri": "https://localhost:8080/"
        },
        "id": "0yIbIKN3G8gi",
        "outputId": "b35015bf-357b-4d13-bcd1-1d10b05a45a8"
      },
      "execution_count": 10,
      "outputs": [
        {
          "output_type": "stream",
          "name": "stdout",
          "text": [
            "[12, 90, 767, 789, 543, 45]\n",
            "[12, 45, 90, 543, 767, 789]\n",
            "[789, 767, 543, 90, 45, 12]\n",
            "12\n",
            "789\n",
            "[789, 767, 543, 90, 45]\n",
            "[]\n"
          ]
        }
      ]
    },
    {
      "cell_type": "markdown",
      "source": [
        " Let us say your expense for every month are listed below,\n",
        "# \t1. January -  2200\n",
        "#  \t2. February - 2350\n",
        "#     3. March - 2600\n",
        "#     4. April - 2130\n",
        "#     5. May - 2190\n",
        "#\n"
      ],
      "metadata": {
        "id": "uj0WLSSMUvzL"
      }
    },
    {
      "cell_type": "code",
      "source": [
        "# Create a list to store these monthly expenses and using that find out,\n",
        "#\n",
        "# 1. In Feb, how many dollars you spent extra compare to January?\n",
        "# 2. Find out your total expense in first quarter (first three months) of the year.\n",
        "# 3. Find out if you spent exactly 2000 dollars in any month\n",
        "# 4. June month just finished and your expense is 1980 dollar. Add this item to our monthly expense list\n",
        "# 5. You returned an item that you bought in a month of April and got a refund of 200$. Make a correction to your monthly expense list\n",
        "# based on this\n",
        "exp = [2200,2350,2600,2130,2190]\n",
        "print(\"In feb i doller spent compared to jan:\",exp[1]-exp[0])\n",
        "print(\"Total expense in first quarter:\",exp[0]+exp[1]+exp[2])\n",
        "print(\"did i spent exactly 2000$ in any month?\", 2000 in exp)\n",
        "\n",
        "exp.append(1980)\n",
        "print(\"My expence after june:\",exp)\n",
        "exp[3]=exp[3]-200\n",
        "print(\"My expence after june:\",exp)"
      ],
      "metadata": {
        "colab": {
          "base_uri": "https://localhost:8080/"
        },
        "id": "n4Opn4fpUzZW",
        "outputId": "2c3b162b-0f67-4f5c-9f08-9639b715b4d9"
      },
      "execution_count": 12,
      "outputs": [
        {
          "output_type": "stream",
          "name": "stdout",
          "text": [
            "In feb i doller spent compared to jan: 150\n",
            "Total expense in first quarter: 7150\n",
            "did i spent exactly 2000$ in any month? False\n",
            "My expence after june: [2200, 2350, 2600, 2130, 2190, 1980]\n",
            "My expence after june: [2200, 2350, 2600, 1930, 2190, 1980]\n"
          ]
        }
      ]
    },
    {
      "cell_type": "code",
      "source": [
        "heros = ['pironman','asiderman','thor']\n",
        "\n",
        "heros.sort()\n",
        "print(heros)\n",
        "heros[1:3]=['doctor',' strange']\n",
        "# replace element index 1 (inclusive) to index 3 (exclusive), which would typically be elements at positions 1 and 2.\n",
        "print(heros)\n"
      ],
      "metadata": {
        "colab": {
          "base_uri": "https://localhost:8080/"
        },
        "id": "0h-yiyUQYAlF",
        "outputId": "b7f5646c-0d2b-47e3-a6d0-58ceac86764f"
      },
      "execution_count": 22,
      "outputs": [
        {
          "output_type": "stream",
          "name": "stdout",
          "text": [
            "['asiderman', 'pironman', 'thor']\n",
            "['asiderman', 'doctor', ' strange']\n"
          ]
        }
      ]
    }
  ]
}