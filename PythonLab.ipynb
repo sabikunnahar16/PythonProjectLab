{
  "nbformat": 4,
  "nbformat_minor": 0,
  "metadata": {
    "colab": {
      "provenance": [],
      "authorship_tag": "ABX9TyP0m/DqeNE/M6KpYb7hhuGV",
      "include_colab_link": true
    },
    "kernelspec": {
      "name": "python3",
      "display_name": "Python 3"
    },
    "language_info": {
      "name": "python"
    }
  },
  "cells": [
    {
      "cell_type": "markdown",
      "metadata": {
        "id": "view-in-github",
        "colab_type": "text"
      },
      "source": [
        "<a href=\"https://colab.research.google.com/github/sabikunnahar16/Web-project/blob/main/PythonLab.ipynb\" target=\"_parent\"><img src=\"https://colab.research.google.com/assets/colab-badge.svg\" alt=\"Open In Colab\"/></a>"
      ]
    },
    {
      "cell_type": "code",
      "execution_count": 1,
      "metadata": {
        "colab": {
          "base_uri": "https://localhost:8080/"
        },
        "id": "GL0ZfNi7jr_U",
        "outputId": "42526b36-b3ce-4ffa-f99a-8adf69984903"
      },
      "outputs": [
        {
          "output_type": "stream",
          "name": "stdout",
          "text": [
            "For Loop:\n",
            "0\n",
            "1\n",
            "2\n",
            "3\n",
            "4\n",
            "\n",
            "While Loop:\n",
            "0\n",
            "1\n",
            "2\n",
            "3\n",
            "4\n",
            "\n",
            "Nested Loop:\n",
            "i: 0, j: 0\n",
            "i: 0, j: 1\n",
            "i: 1, j: 0\n",
            "i: 1, j: 1\n",
            "i: 2, j: 0\n",
            "i: 2, j: 1\n"
          ]
        }
      ],
      "source": [
        "# prompt: give me a code using for loop,while loop,nested loop\n",
        "\n",
        "# For loop example\n",
        "print(\"For Loop:\")\n",
        "for i in range(5):\n",
        "  print(i)\n",
        "\n",
        "# While loop example\n",
        "print(\"\\nWhile Loop:\")\n",
        "i = 0\n",
        "while i < 5:\n",
        "  print(i)\n",
        "  i += 1\n",
        "\n",
        "# Nested loop example\n",
        "print(\"\\nNested Loop:\")\n",
        "for i in range(3):\n",
        "  for j in range(2):\n",
        "    print(f\"i: {i}, j: {j}\")"
      ]
    },
    {
      "cell_type": "markdown",
      "source": [
        "# New Section"
      ],
      "metadata": {
        "id": "fAEWTzd0k79M"
      }
    },
    {
      "cell_type": "markdown",
      "source": [
        "# New Section"
      ],
      "metadata": {
        "id": "cdfpbq1Ck9nE"
      }
    },
    {
      "cell_type": "code",
      "source": [],
      "metadata": {
        "id": "ZmgcJ048lFBe"
      },
      "execution_count": null,
      "outputs": []
    },
    {
      "cell_type": "code",
      "source": [],
      "metadata": {
        "id": "4dvJoK7kj3fW"
      },
      "execution_count": null,
      "outputs": []
    }
  ]
}